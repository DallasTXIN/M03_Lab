{
 "cells": [
  {
   "cell_type": "code",
   "execution_count": null,
   "id": "156321bf",
   "metadata": {},
   "outputs": [],
   "source": [
    "class Automobile:\n",
    "    vehicletype = input(\"Please put in your vehicle's type: \")\n",
    "    year = input(\"Please put in your vehicle's year: \")\n",
    "    make = input(\"Please put in your vehicle's make: \")\n",
    "    model = input(\"Please put in your vehicle's model: \")\n",
    "    doors = input(\"Please put in your vehicle's door amount: \")\n",
    "    roof = input(\"Please put in your vehicle's roof: \")\n",
    "    print(\"Vehicle type: \" + vehicletype)\n",
    "    print(\"Vehicle year: \" + year)\n",
    "    print(\"Vehicle make: \" + make)\n",
    "    print(\"Vehicle model: \" + model)\n",
    "    print(\"Vehicle doors: \" + doors)\n",
    "    print(\"Vehicle roof type: \" + roof)"
   ]
  }
 ],
 "metadata": {
  "kernelspec": {
   "display_name": "Python 3 (ipykernel)",
   "language": "python",
   "name": "python3"
  },
  "language_info": {
   "codemirror_mode": {
    "name": "ipython",
    "version": 3
   },
   "file_extension": ".py",
   "mimetype": "text/x-python",
   "name": "python",
   "nbconvert_exporter": "python",
   "pygments_lexer": "ipython3",
   "version": "3.9.13"
  }
 },
 "nbformat": 4,
 "nbformat_minor": 5
}
